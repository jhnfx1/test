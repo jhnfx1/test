{
 "cells": [
  {
   "cell_type": "markdown",
   "metadata": {},
   "source": [
    "# What is data?"
   ]
  },
  {
   "cell_type": "markdown",
   "metadata": {},
   "source": [
    "John Fox"
   ]
  },
  {
   "cell_type": "markdown",
   "metadata": {},
   "source": [
    "Data is a record of the results of observations. Therefore, data describes the observation/s in numerical form. To perform statistic numerical representations of one's observations are necessary. Observations are represented by measurements and the frequency of the measurement (i.e. Frequency is a number that describes how many times you got the same measurement value.). The most fundamental statistics are the measurements and their respective frequencies. For example, a statistics teacher has 25 students. Each student tosses four coins and records the number of heads. The results are\n",
    "\n",
    "\\begin{equation*}\n",
    "x = \\begin{bmatrix}\n",
    "2\\;\\; 2\\;\\; 0\\;\\; 1\\;\\; 1\\;\\; 1\\;\\; 2\\;\\; 3\\;\\; 1\\;\\; 2\\;\\; 2\\;\\; 3\\;\\; 3\\;\\; 4\\;\\; 1\\;\\; 3\\;\\; 2\\;\\; 3\\;\\; 3\\;\\; 1\\;\\; 2\\;\\; 2\\;\\; 1\\;\\; 2\\;\\; 2 \n",
    "\\end{bmatrix}\n",
    "\\end{equation*}\n",
    "\n",
    "This data set can be better understood by sorting the values. For large datasets a programming language will be helpful. Here I will use Python."
   ]
  },
  {
   "cell_type": "code",
   "execution_count": 15,
   "metadata": {},
   "outputs": [
    {
     "name": "stdout",
     "output_type": "stream",
     "text": [
      "x = [2 2 0 1 1 1 2 3 1 2 2 3 3 4 1 3 2 3 3 1 2 2 1 2 2]\n",
      "\n",
      "sorted: \n",
      "\n",
      "x = [0 1 1 1 1 1 1 1 2 2 2 2 2 2 2 2 2 2 3 3 3 3 3 3 4]\n"
     ]
    }
   ],
   "source": [
    "# import necessary classes\n",
    "import numpy as np\n",
    "from scipy import stats\n",
    "import matplotlib.pyplot as plt\n",
    "%matplotlib inline\n",
    "\n",
    "# make an array\n",
    "x = np.array([2, 2, 0, 1, 1, 1, 2, 3, 1, 2, 2, 3, 3, 4,\n",
    "              1, 3, 2, 3, 3, 1, 2, 2, 1, 2, 2])\n",
    "# print the array as output\n",
    "print 'x =', x\n",
    "# print whitespace\n",
    "print '\\nsorted: \\n'\n",
    "# sort the array\n",
    "x = np.sort(x, axis=None)\n",
    "# print the sorted array\n",
    "print 'x =', x"
   ]
  },
  {
   "cell_type": "markdown",
   "metadata": {},
   "source": [
    "Examine the list of results, x. While unsorted, this list of values is difficult to understand. However, when the values are sorted it is clear that there are only 5 measures or values of concern. To be concise we can reduce this list down to the following:\n",
    "\n",
    "\\begin{equation*}\n",
    "x = \\begin{bmatrix} \n",
    "0\\;\\; 1\\;\\; 2\\;\\; 3\\;\\; 4\n",
    "\\end{bmatrix}\n",
    "\\end{equation*}\n",
    "\n",
    "Clearly this reduced list is much easier to cognitvely digest. By itself it is incomplete. The list in its current state does not reveal how often each measure occurred. Hence we are missing information when looking at this reduced list. If we include the freqency of each value then we have all the information necessary to recreate the original list. A complete, reduced list looks like this:\n",
    "\n",
    "\\begin{equation*}\n",
    "x = \\begin{bmatrix} \n",
    "0\\;\\; 1\\;\\; 2\\;\\; 3\\;\\; 4 \\\\ \n",
    "1\\;\\; 7\\;\\; 10\\;\\; 6\\;\\; 1 \n",
    "\\end{bmatrix}\n",
    "\\end{equation*}\n",
    "\n",
    "Now we all the information of the original list in reduced form. This reduced list shows the frequency distribution of values. "
   ]
  },
  {
   "cell_type": "code",
   "execution_count": 72,
   "metadata": {},
   "outputs": [
    {
     "name": "stdout",
     "output_type": "stream",
     "text": [
      "Frequency Distribution of x = \n",
      "[[  0.   1.   2.   3.   4.]\n",
      " [  1.   7.  10.   6.   1.]]\n"
     ]
    },
    {
     "data": {
      "image/png": "[encoded data removed]",
      "text/plain": [
       "<matplotlib.figure.Figure at 0x98069e8>"
      ]
     },
     "metadata": {},
     "output_type": "display_data"
    },
    {
     "data": {
      "image/png": "[encoded data removed]",
      "text/plain": [
       "<matplotlib.figure.Figure at 0xb8a6080>"
      ]
     },
     "metadata": {},
     "output_type": "display_data"
    }
   ],
   "source": [
    "# lets reduce the list and detemine the frequency of each value\n",
    "bins = 5                             # number of bins to sort data into\n",
    "maxval = np.amax(x, axis=0)          # maximum value\n",
    "minval = np.amin(x, axis=0);         # minimum value\n",
    "l = len(x)                           # length of list, x\n",
    "nx = x - np.matlib.repmat(minval,1,l)# subtract the minimum value\n",
    "width = maxval - minval              # range of the data\n",
    "binwidth = width/(bins-1)            # determine the width of the bins \n",
    "\n",
    "H = (2,5)\n",
    "H = np.zeros(H)                      # allocate space for distribution\n",
    "\n",
    "# for loop to bin the data\n",
    "for i in range(len(x)):\n",
    "    binval = int(x[i]/binwidth)      # compute the appropriate bin\n",
    "    H[:,binval] = [x[i]+minval, H[1,binval] + 1] # does the binning\n",
    "\n",
    "# print H as output\n",
    "print 'Frequency Distribution of x = \\n', H\n",
    "\n",
    "# plot the freqency polygon of x\n",
    "plt.figure('FreqPolygon')\n",
    "locs, labels = plt.xticks()\n",
    "plt.xticks(np.arange(minval,maxval+1,1))\n",
    "plt.xlabel('Value')\n",
    "plt.ylabel('Frequency')\n",
    "plt.title('Frequency Polygon of x')\n",
    "plt.plot(H[0,:],H[1,:]);\n",
    "\n",
    "# plot the histogram; this is cool because numpy and matplotlib have some cool built-in capabilities\n",
    "plt.figure('Histogram')\n",
    "#locs, labels = plt.xticks()\n",
    "#plt.xticks(np.arange(minval,maxval,1))\n",
    "plt.hist(x,bins=np.arange(minval,maxval+2,1),rwidth=0.5,align='left')\n",
    "plt.xlabel('Value')\n",
    "plt.ylabel('Frequency')\n",
    "plt.title('Histogram of x');"
   ]
  },
  {
   "cell_type": "markdown",
   "metadata": {},
   "source": [
    "Compare the two plots above. The first plot is called a frequency polygon. It is a line plot where each point represents the frequency of the corresponding value on the x-axis. The second plot is a histogram. The histogram is a bar chart where each bar represents a value or interval of values in the data set. The height of the bar represents the frequency of occurrence of its respective value or interval of values. The two plots above represent the same dataset. Notice in both that the most frequently occuring value is 2. In other words, as students flipped four coins and counted the number of heads, the event that 2 out of the four coins turned up heads occurred most often or 10 times. "
   ]
  },
  {
   "cell_type": "markdown",
   "metadata": {},
   "source": [
    "# Shapes of Distributions"
   ]
  },
  {
   "cell_type": "markdown",
   "metadata": {},
   "source": [
    "Distributions have many shapes. Hence, there are many different distributions, and some are well understood. Let's look at some of the distributions that exhibit symmetry."
   ]
  }
 ],
 "metadata": {
  "kernelspec": {
   "display_name": "Python 2",
   "language": "python",
   "name": "python2"
  },
  "language_info": {
   "codemirror_mode": {
    "name": "ipython",
    "version": 2
   },
   "file_extension": ".py",
   "mimetype": "text/x-python",
   "name": "python",
   "nbconvert_exporter": "python",
   "pygments_lexer": "ipython2",
   "version": "2.7.14"
  }
 },
 "nbformat": 4,
 "nbformat_minor": 2
}
